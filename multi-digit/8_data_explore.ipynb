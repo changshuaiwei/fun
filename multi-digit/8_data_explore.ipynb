{
 "cells": [
  {
   "cell_type": "code",
   "execution_count": 22,
   "metadata": {
    "collapsed": true
   },
   "outputs": [],
   "source": [
    "import matplotlib.pyplot as plt\n",
    "import numpy as np\n",
    "import tensorflow as tf\n",
    "import os\n",
    "import sys\n",
    "from six.moves import cPickle as pickle\n",
    "from skimage.io import imread, imsave\n",
    "%matplotlib inline"
   ]
  },
  {
   "cell_type": "code",
   "execution_count": 7,
   "metadata": {
    "collapsed": true
   },
   "outputs": [],
   "source": [
    "pickle_file = 'test_metadata.pickle'\n",
    "test_metadata = {}\n",
    "\n",
    "with open(pickle_file, 'rb') as f:\n",
    "    save = pickle.load(f)\n",
    "    test_metadata = save\n",
    "    del save  # hint to help gc free up memory"
   ]
  },
  {
   "cell_type": "code",
   "execution_count": 5,
   "metadata": {
    "collapsed": true
   },
   "outputs": [],
   "source": [
    "pickle_file = 'train_metadata.pickle'\n",
    "train_metadata = {}\n",
    "\n",
    "with open(pickle_file, 'rb') as f:\n",
    "    save = pickle.load(f)\n",
    "    train_metadata = save\n",
    "    del save  # hint to help gc free up memory"
   ]
  },
  {
   "cell_type": "code",
   "execution_count": 6,
   "metadata": {
    "collapsed": false
   },
   "outputs": [
    {
     "data": {
      "text/plain": [
       "33402"
      ]
     },
     "execution_count": 6,
     "metadata": {},
     "output_type": "execute_result"
    }
   ],
   "source": [
    "len(train_metadata['label'])"
   ]
  },
  {
   "cell_type": "code",
   "execution_count": 8,
   "metadata": {
    "collapsed": false
   },
   "outputs": [
    {
     "data": {
      "text/plain": [
       "13068"
      ]
     },
     "execution_count": 8,
     "metadata": {},
     "output_type": "execute_result"
    }
   ],
   "source": [
    "len(test_metadata['label'])"
   ]
  },
  {
   "cell_type": "code",
   "execution_count": 73,
   "metadata": {
    "collapsed": false
   },
   "outputs": [
    {
     "data": {
      "image/png": "[encoded data removed]",
      "text/plain": [
       "<matplotlib.figure.Figure at 0x7faab83ac410>"
      ]
     },
     "metadata": {},
     "output_type": "display_data"
    },
    {
     "name": "stdout",
     "output_type": "stream",
     "text": [
      "average length is 2.19319202443, sd is 0.742491945918\n",
      "max length is 6, and min length is 1\n",
      "percentage of length smaller than 6 is 0.999970061673\n"
     ]
    }
   ],
   "source": [
    "tr_len = np.asarray([len(s) for s in train_metadata['label']])\n",
    "plt.hist(tr_len)\n",
    "plt.title(\"Digit length Histogram (training)\")\n",
    "plt.xlabel(\"Value\")\n",
    "plt.ylabel(\"Frequency\")\n",
    "plt.show()\n",
    "\n",
    "#fig = plt.gcf()\n",
    "\n",
    "#plot_url = py.plot_mpl(fig, filename='mpl-basic-histogram')\n",
    "\n",
    "print 'average length is {}, sd is {}'.format(np.mean(tr_len), np.std(tr_len))\n",
    "print 'max length is {}, and min length is {}'.format(np.max(tr_len), np.min(tr_len))\n",
    "print 'percentage of length smaller than 6 is {}'.format(np.mean(1.0*(tr_len<6)))"
   ]
  },
  {
   "cell_type": "code",
   "execution_count": 17,
   "metadata": {
    "collapsed": false
   },
   "outputs": [],
   "source": [
    "train_root = 'train'\n",
    "test_root = 'test'\n",
    "\n",
    "train_list =[train_root + '/' + x for x in os.listdir(train_root) ]\n",
    "test_list =[test_root + '/' + x for x in os.listdir(test_root) ]\n",
    "\n",
    "train_list = [s for s in train_list if '.png' in s]\n",
    "test_list = [s for s in test_list if '.png' in s]"
   ]
  },
  {
   "cell_type": "code",
   "execution_count": 18,
   "metadata": {
    "collapsed": false
   },
   "outputs": [
    {
     "data": {
      "text/plain": [
       "33402"
      ]
     },
     "execution_count": 18,
     "metadata": {},
     "output_type": "execute_result"
    }
   ],
   "source": [
    "len(train_list)"
   ]
  },
  {
   "cell_type": "code",
   "execution_count": 20,
   "metadata": {
    "collapsed": true
   },
   "outputs": [],
   "source": [
    "def extract_info(file_list, metadata):\n",
    "    \n",
    "    #img hight, img width, box top, box left, box height, box width\n",
    "    info = np.ndarray(shape=(len(file_list), 6), dtype=np.float32)\n",
    "    \n",
    "    for i in range(len(file_list)):\n",
    "        img = imread(file_list[i])\n",
    "        info[i,0], info[i,1] = img.shape[0], img.shape[1]\n",
    "        \n",
    "        info[i,2] = np.min(np.asarray(metadata['top'][i]))\n",
    "        info[i,3] = np.min(np.asarray(metadata['left'][i]))\n",
    "        \n",
    "        info[i,4] = np.max(np.asarray(metadata['top'][i]) \n",
    "                           + np.asarray(metadata['height'][i])) - info[i,2]\n",
    "        info[i,5] = np.max(np.asarray(metadata['left'][i]) \n",
    "                           + np.asarray(metadata['width'][i])) - info[i,3]\n",
    "        \n",
    "    return info"
   ]
  },
  {
   "cell_type": "code",
   "execution_count": 23,
   "metadata": {
    "collapsed": false
   },
   "outputs": [],
   "source": [
    "train_size = len(train_metadata['label'])\n",
    "file_list = ['train/' + str(x+1) + '.png' for x in range(train_size)]\n",
    "\n",
    "train_info = extract_info(file_list, train_metadata)"
   ]
  },
  {
   "cell_type": "code",
   "execution_count": 65,
   "metadata": {
    "collapsed": false,
    "scrolled": false
   },
   "outputs": [
    {
     "data": {
      "image/png": "[encoded data removed]",
      "text/plain": [
       "<matplotlib.figure.Figure at 0x7faab8695a90>"
      ]
     },
     "metadata": {},
     "output_type": "display_data"
    },
    {
     "name": "stdout",
     "output_type": "stream",
     "text": [
      "average size is 128.284988403x57.2130126953\n",
      "percentage of image smaller than 450 x 250 is 0.997095982277\n"
     ]
    }
   ],
   "source": [
    "from matplotlib.colors import LogNorm\n",
    "\n",
    "x = train_info[:,1]\n",
    "y = train_info[:,0]\n",
    "counts,ybins,xbins,image = plt.hist2d(x,y,bins=100,norm=LogNorm())\n",
    "#cs = plt.contour(counts,extent=[xbins.min(),xbins.max(),ybins.min(),ybins.max()],linewidths=0.5)\n",
    "#plt.colorbar(cs,shrink=0.8,extend='both')\n",
    "\n",
    "plt.title(\"2D density for image size\")\n",
    "plt.xlabel(\"Width\")\n",
    "plt.ylabel(\"Height\")\n",
    "\n",
    "plt.colorbar(image, orientation='vertical', shrink=0.8)\n",
    "plt.show()\n",
    "\n",
    "print 'average size is {0}x{1}'.format(np.mean(x),np.mean(y))\n",
    "print 'percentage of image smaller than 450 x 250 is {}'.format(np.mean(1.0*(x<450) *(y<250)))"
   ]
  },
  {
   "cell_type": "code",
   "execution_count": 66,
   "metadata": {
    "collapsed": false
   },
   "outputs": [
    {
     "data": {
      "image/png": "[encoded data removed]",
      "text/plain": [
       "<matplotlib.figure.Figure at 0x7faab3b06150>"
      ]
     },
     "metadata": {},
     "output_type": "display_data"
    },
    {
     "name": "stdout",
     "output_type": "stream",
     "text": [
      "average size is 36.256603241x37.0859222412\n",
      "percentage of box smaller than 150 x 150 is 0.995419435962\n"
     ]
    }
   ],
   "source": [
    "from matplotlib.colors import LogNorm\n",
    "\n",
    "x = train_info[:,5]\n",
    "y = train_info[:,4]\n",
    "counts,ybins,xbins,image = plt.hist2d(x,y,bins=100,norm=LogNorm())\n",
    "#cs = plt.contour(counts,extent=[xbins.min(),xbins.max(),ybins.min(),ybins.max()],linewidths=0.5)\n",
    "#plt.colorbar(cs,shrink=0.8,extend='both')\n",
    "\n",
    "plt.title(\"2D density for box size\")\n",
    "plt.xlabel(\"Width\")\n",
    "plt.ylabel(\"Height\")\n",
    "\n",
    "plt.colorbar(image, orientation='vertical', shrink=0.8)\n",
    "plt.show()\n",
    "\n",
    "print 'average size is {0}x{1}'.format(np.mean(x),np.mean(y))\n",
    "print 'percentage of box smaller than 150 x 150 is {}'.format(np.mean(1.0*(x<150) *(y<150)))"
   ]
  },
  {
   "cell_type": "code",
   "execution_count": null,
   "metadata": {
    "collapsed": true
   },
   "outputs": [],
   "source": []
  }
 ],
 "metadata": {
  "anaconda-cloud": {},
  "kernelspec": {
   "display_name": "Python [default]",
   "language": "python",
   "name": "python2"
  },
  "language_info": {
   "codemirror_mode": {
    "name": "ipython",
    "version": 2
   },
   "file_extension": ".py",
   "mimetype": "text/x-python",
   "name": "python",
   "nbconvert_exporter": "python",
   "pygments_lexer": "ipython2",
   "version": "2.7.12"
  }
 },
 "nbformat": 4,
 "nbformat_minor": 1
}
