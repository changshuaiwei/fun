{
 "cells": [
  {
   "cell_type": "code",
   "execution_count": 1,
   "metadata": {
    "collapsed": true
   },
   "outputs": [],
   "source": [
    "import matplotlib.pyplot as plt\n",
    "import numpy as np\n",
    "import tensorflow as tf\n",
    "import os\n",
    "import sys\n",
    "from six.moves import cPickle as pickle\n",
    "%matplotlib inline"
   ]
  },
  {
   "cell_type": "markdown",
   "metadata": {},
   "source": [
    "# Read the small data"
   ]
  },
  {
   "cell_type": "code",
   "execution_count": 2,
   "metadata": {
    "collapsed": true
   },
   "outputs": [],
   "source": [
    "pickle_file = 'mini_train.pickle'\n",
    "\n",
    "with open(pickle_file, 'rb') as f:\n",
    "    save = pickle.load(f)\n",
    "    mini_X_0 = save['data']\n",
    "    mini_outcome = save['outcome']\n",
    "    del save  # hint to help gc free up memory"
   ]
  },
  {
   "cell_type": "code",
   "execution_count": 3,
   "metadata": {
    "collapsed": true
   },
   "outputs": [],
   "source": [
    "#reformat the label\n",
    "#for each digit, add a 'end_digit' as '10'\n",
    "#for each label, add a digit size\n",
    "#each of them is a one-hot coding\n",
    "\n",
    "def label_reformat(label, max_size = 5):\n",
    "    digit_size = np.asarray([len(x) for x in label])\n",
    "    digit_size[digit_size > max_size]= max_size\n",
    "    digit_size = ((np.arange(max_size)+1) == digit_size[:,None]).astype(np.float32)\n",
    "    \n",
    "    digits = {}\n",
    "    end_digit = 10.0\n",
    "    for i in range(max_size):\n",
    "        digit_coding = np.asarray( [x[i] if len(x)>i else end_digit for x in label])\n",
    "        digit_coding = (np.arange(end_digit+1) == digit_coding[:,None]).astype(np.float32)\n",
    "        digits['digit_'+ str(i)] = digit_coding\n",
    "        \n",
    "    return digit_size, digits   "
   ]
  },
  {
   "cell_type": "markdown",
   "metadata": {},
   "source": [
    "## extract the localization box"
   ]
  },
  {
   "cell_type": "code",
   "execution_count": 4,
   "metadata": {
    "collapsed": true
   },
   "outputs": [],
   "source": [
    "def one_boxes(metadata):\n",
    "    box={}\n",
    "    box['left']=[]\n",
    "    box['right']=[]\n",
    "    box['top']=[]\n",
    "    box['bottom']=[]\n",
    "    \n",
    "    left = metadata['left']\n",
    "    top = metadata['top']\n",
    "    width = metadata['width']\n",
    "    height = metadata['height']\n",
    "    \n",
    "    for i in xrange(len(left)):\n",
    "        tmp_left = np.asarray(left[i])\n",
    "        tmp_top = np.asarray(top[i])\n",
    "        tmp_width = np.asarray(width[i])\n",
    "        tmp_height = np.asarray(height[i])\n",
    "        tmp_right = tmp_left + tmp_width\n",
    "        tmp_bottom = tmp_top + tmp_height\n",
    "        box['left'].append(np.min(tmp_left))\n",
    "        box['right'].append(np.max(tmp_right))\n",
    "        box['top'].append(np.min(tmp_top))\n",
    "        box['bottom'].append(np.max(tmp_bottom))\n",
    "        \n",
    "    box['left'] = np.asarray(box['left'])\n",
    "    box['right']= np.asarray(box['right'])\n",
    "    box['top']=np.asarray(box['top'])\n",
    "    box['bottom']=np.asarray(box['bottom'])\n",
    "    \n",
    "    return np.stack((box['left'],box['right'],box['top'],box['bottom']),\n",
    "                          axis=-1 )\n",
    "        "
   ]
  },
  {
   "cell_type": "markdown",
   "metadata": {},
   "source": [
    "# Sample a smaller data set"
   ]
  },
  {
   "cell_type": "code",
   "execution_count": 5,
   "metadata": {
    "collapsed": false
   },
   "outputs": [],
   "source": [
    "label = mini_outcome['label'][:100]\n",
    "digit_size, digits = label_reformat(label)\n",
    "mini_X = mini_X_0[:100]\n",
    "\n",
    "#make it scale between 0 and 1\n",
    "digits_box = one_boxes(mini_outcome)/mini_X.shape[1]\n",
    "digits_box = digits_box[:100]"
   ]
  },
  {
   "cell_type": "code",
   "execution_count": 6,
   "metadata": {
    "collapsed": false
   },
   "outputs": [
    {
     "name": "stdout",
     "output_type": "stream",
     "text": [
      "(100, 5)\n",
      "(100, 11)\n",
      "(100, 64, 64, 3)\n",
      "(100, 4)\n"
     ]
    }
   ],
   "source": [
    "print digit_size.shape\n",
    "print digits['digit_0'].shape\n",
    "print mini_X.shape\n",
    "print digits_box.shape"
   ]
  },
  {
   "cell_type": "markdown",
   "metadata": {},
   "source": [
    "# Start a tensorflow session"
   ]
  },
  {
   "cell_type": "code",
   "execution_count": 7,
   "metadata": {
    "collapsed": false
   },
   "outputs": [],
   "source": [
    "sess = tf.InteractiveSession()"
   ]
  },
  {
   "cell_type": "code",
   "execution_count": 8,
   "metadata": {
    "collapsed": true
   },
   "outputs": [],
   "source": [
    "def weight_variable(shape):\n",
    "    initial = tf.truncated_normal(shape, stddev=0.1)\n",
    "    return tf.Variable(initial)\n",
    "\n",
    "def bias_variable(shape):\n",
    "    initial = tf.constant(0.1, shape=shape)\n",
    "    return tf.Variable(initial)\n",
    "\n",
    "def conv2d(x, W):\n",
    "    return tf.nn.conv2d(x, W, strides=[1, 1, 1, 1], padding='SAME')\n",
    "\n",
    "def max_pool_2x2(x):\n",
    "    return tf.nn.max_pool(x, ksize=[1, 2, 2, 1], strides=[1, 2, 2, 1], padding='SAME')"
   ]
  },
  {
   "cell_type": "code",
   "execution_count": 9,
   "metadata": {
    "collapsed": true
   },
   "outputs": [],
   "source": [
    "\n",
    "image_size = mini_X.shape[1]\n",
    "num_channels = mini_X.shape[3]\n",
    "batch_size = 20\n",
    "\n",
    "x_image = tf.placeholder(tf.float32, shape=(batch_size, image_size, image_size, num_channels))\n",
    "\n",
    "y_d1 = tf.placeholder(tf.float32, shape=(batch_size, 11))\n",
    "y_d2 = tf.placeholder(tf.float32, shape=(batch_size, 11))\n",
    "y_d3 = tf.placeholder(tf.float32, shape=(batch_size, 11))\n",
    "y_d4 = tf.placeholder(tf.float32, shape=(batch_size, 11))\n",
    "y_d5 = tf.placeholder(tf.float32, shape=(batch_size, 11))\n",
    "\n",
    "y_dsize = tf.placeholder(tf.float32, shape=(batch_size, 5))\n",
    "\n",
    "y_box = tf.placeholder(tf.float32, shape=(batch_size, 4))\n"
   ]
  },
  {
   "cell_type": "code",
   "execution_count": 10,
   "metadata": {
    "collapsed": false
   },
   "outputs": [],
   "source": [
    "def next_batch(X, y_dsize, y_ds, y_box, batch_size=50):\n",
    "    idx = np.random.choice(X.shape[0],batch_size)\n",
    "    batch_x = X[idx,:,:,:]\n",
    "    batch_y_dsize = y_dsize[idx,:]\n",
    "    batch_y_d1 = y_ds['digit_0'][idx,:]\n",
    "    batch_y_d2 = y_ds['digit_1'][idx,:]\n",
    "    batch_y_d3 = y_ds['digit_2'][idx,:]\n",
    "    batch_y_d4 = y_ds['digit_3'][idx,:]\n",
    "    batch_y_d5 = y_ds['digit_4'][idx,:]\n",
    "    \n",
    "    batch_y_box = y_box[idx,:]\n",
    "    \n",
    "    \n",
    "    return ( batch_x, batch_y_dsize,\n",
    "            batch_y_d1, batch_y_d2, \n",
    "            batch_y_d3, batch_y_d4, batch_y_d5,\n",
    "            batch_y_box)\n"
   ]
  },
  {
   "cell_type": "markdown",
   "metadata": {},
   "source": [
    "# Construct CNN"
   ]
  },
  {
   "cell_type": "code",
   "execution_count": 11,
   "metadata": {
    "collapsed": true
   },
   "outputs": [],
   "source": [
    "W_conv1 = weight_variable([5, 5, num_channels, 32])\n",
    "b_conv1 = bias_variable([32])\n",
    "\n",
    "h_conv1 = tf.nn.relu(conv2d(x_image, W_conv1) + b_conv1)\n",
    "h_pool1 = max_pool_2x2(h_conv1)"
   ]
  },
  {
   "cell_type": "code",
   "execution_count": 12,
   "metadata": {
    "collapsed": true
   },
   "outputs": [],
   "source": [
    "W_conv2 = weight_variable([5, 5, 32, 64])\n",
    "b_conv2 = bias_variable([64])\n",
    "\n",
    "h_conv2 = tf.nn.relu(conv2d(h_pool1, W_conv2) + b_conv2)\n",
    "h_pool2 = max_pool_2x2(h_conv2)"
   ]
  },
  {
   "cell_type": "code",
   "execution_count": 13,
   "metadata": {
    "collapsed": true
   },
   "outputs": [],
   "source": [
    "W_fc1 = weight_variable([16 * 16 * 64, 1024])\n",
    "b_fc1 = bias_variable([1024])\n",
    "\n",
    "h_pool2_flat = tf.reshape(h_pool2, [-1, 16*16*64])\n",
    "h_fc1 = tf.nn.relu(tf.matmul(h_pool2_flat, W_fc1) + b_fc1)"
   ]
  },
  {
   "cell_type": "code",
   "execution_count": 14,
   "metadata": {
    "collapsed": true
   },
   "outputs": [],
   "source": [
    "keep_prob = tf.placeholder(tf.float32)\n",
    "h_fc1_drop = tf.nn.dropout(h_fc1, keep_prob)"
   ]
  },
  {
   "cell_type": "code",
   "execution_count": 15,
   "metadata": {
    "collapsed": true
   },
   "outputs": [],
   "source": [
    "#first digit\n",
    "W_fc2_d1 = weight_variable([1024, 11])\n",
    "b_fc2_d1 = bias_variable([11])\n",
    "\n",
    "y_conv_d1 = tf.matmul(h_fc1_drop, W_fc2_d1) + b_fc2_d1\n",
    "\n",
    "#second digit\n",
    "W_fc2_d2 = weight_variable([1024, 11])\n",
    "b_fc2_d2 = bias_variable([11])\n",
    "\n",
    "y_conv_d2 = tf.matmul(h_fc1_drop, W_fc2_d2) + b_fc2_d2\n",
    "\n",
    "#third digit\n",
    "W_fc2_d3 = weight_variable([1024, 11])\n",
    "b_fc2_d3 = bias_variable([11])\n",
    "\n",
    "y_conv_d3 = tf.matmul(h_fc1_drop, W_fc2_d3) + b_fc2_d3\n",
    "\n",
    "#fourth digit\n",
    "W_fc2_d4 = weight_variable([1024, 11])\n",
    "b_fc2_d4 = bias_variable([11])\n",
    "\n",
    "y_conv_d4 = tf.matmul(h_fc1_drop, W_fc2_d4) + b_fc2_d4\n",
    "\n",
    "#fifth digit\n",
    "W_fc2_d5 = weight_variable([1024, 11])\n",
    "b_fc2_d5 = bias_variable([11])\n",
    "\n",
    "y_conv_d5 = tf.matmul(h_fc1_drop, W_fc2_d5) + b_fc2_d5\n",
    "\n",
    "#digit size\n",
    "W_fc2_dsize = weight_variable([1024, 5])\n",
    "b_fc2_dsize = bias_variable([5])\n",
    "\n",
    "y_conv_dsize = tf.matmul(h_fc1_drop, W_fc2_dsize) + b_fc2_dsize\n",
    "\n",
    "##digit box\n",
    "W_fc2_dbox = weight_variable([1024, 4])\n",
    "b_fc2_dbox = bias_variable([4])\n",
    "\n",
    "y_conv_dbox = tf.matmul(h_fc1_drop, W_fc2_dbox) + b_fc2_dbox\n"
   ]
  },
  {
   "cell_type": "code",
   "execution_count": 16,
   "metadata": {
    "collapsed": false
   },
   "outputs": [],
   "source": [
    "cross_entropy_and_l2 = ( \n",
    "    tf.reduce_mean(tf.nn.softmax_cross_entropy_with_logits(y_conv_d1, y_d1)) \n",
    "    + tf.reduce_mean(tf.nn.softmax_cross_entropy_with_logits(y_conv_d2, y_d2))\n",
    "    + tf.reduce_mean(tf.nn.softmax_cross_entropy_with_logits(y_conv_d3, y_d3))\n",
    "    + tf.reduce_mean(tf.nn.softmax_cross_entropy_with_logits(y_conv_d4, y_d4))\n",
    "    + tf.reduce_mean(tf.nn.softmax_cross_entropy_with_logits(y_conv_d5, y_d5))\n",
    "    + tf.reduce_mean(tf.nn.softmax_cross_entropy_with_logits(y_conv_dsize, y_dsize))\n",
    "    + tf.reduce_mean((y_conv_dbox-y_box)**2) + tf.nn.l2_loss(W_fc2_dbox)*0.0001\n",
    ")\n",
    "\n",
    "train_step = tf.train.AdamOptimizer(1e-4).minimize(cross_entropy_and_l2)"
   ]
  },
  {
   "cell_type": "code",
   "execution_count": 17,
   "metadata": {
    "collapsed": true
   },
   "outputs": [],
   "source": [
    "#let's just check the first digit\n",
    "correct_prediction = tf.equal(tf.argmax(y_conv_d1,1), tf.argmax(y_d1,1))\n",
    "accuracy = tf.reduce_mean(tf.cast(correct_prediction, tf.float32))\n",
    "\n"
   ]
  },
  {
   "cell_type": "markdown",
   "metadata": {},
   "source": [
    "# Train model on a small data, see if overfit\n",
    "if overfit, good; if not, check bugs."
   ]
  },
  {
   "cell_type": "code",
   "execution_count": 18,
   "metadata": {
    "collapsed": false
   },
   "outputs": [
    {
     "name": "stdout",
     "output_type": "stream",
     "text": [
      "step 0, training accuracy 0.1\n",
      "step 10, training accuracy 0.2\n",
      "step 20, training accuracy 0.35\n",
      "step 30, training accuracy 0.25\n",
      "step 40, training accuracy 0.45\n",
      "step 50, training accuracy 0.4\n",
      "step 60, training accuracy 0.3\n",
      "step 70, training accuracy 0.25\n",
      "step 80, training accuracy 0.25\n",
      "step 90, training accuracy 0.35\n",
      "step 100, training accuracy 0.35\n",
      "step 110, training accuracy 0.55\n",
      "step 120, training accuracy 0.4\n",
      "step 130, training accuracy 0.3\n",
      "step 140, training accuracy 0.45\n",
      "step 150, training accuracy 0.5\n",
      "step 160, training accuracy 0.4\n",
      "step 170, training accuracy 0.45\n",
      "step 180, training accuracy 0.65\n",
      "step 190, training accuracy 0.6\n",
      "step 200, training accuracy 0.7\n",
      "step 210, training accuracy 0.5\n",
      "step 220, training accuracy 0.5\n",
      "step 230, training accuracy 0.45\n",
      "step 240, training accuracy 0.7\n",
      "step 250, training accuracy 0.9\n",
      "step 260, training accuracy 0.8\n",
      "step 270, training accuracy 0.4\n",
      "step 280, training accuracy 0.7\n",
      "step 290, training accuracy 0.85\n",
      "step 300, training accuracy 0.9\n",
      "step 310, training accuracy 0.85\n",
      "step 320, training accuracy 0.75\n",
      "step 330, training accuracy 0.75\n",
      "step 340, training accuracy 0.9\n",
      "step 350, training accuracy 0.9\n",
      "step 360, training accuracy 0.85\n",
      "step 370, training accuracy 0.8\n",
      "step 380, training accuracy 0.65\n",
      "step 390, training accuracy 0.8\n",
      "step 400, training accuracy 0.85\n",
      "step 410, training accuracy 0.7\n",
      "step 420, training accuracy 1\n",
      "step 430, training accuracy 0.8\n",
      "step 440, training accuracy 0.8\n",
      "step 450, training accuracy 1\n",
      "step 460, training accuracy 0.7\n",
      "step 470, training accuracy 1\n",
      "step 480, training accuracy 0.85\n",
      "step 490, training accuracy 0.95\n",
      "step 500, training accuracy 0.9\n",
      "step 510, training accuracy 0.9\n",
      "step 520, training accuracy 0.9\n",
      "step 530, training accuracy 0.9\n",
      "step 540, training accuracy 0.95\n",
      "step 550, training accuracy 1\n",
      "step 560, training accuracy 1\n",
      "step 570, training accuracy 0.95\n",
      "step 580, training accuracy 0.95\n",
      "step 590, training accuracy 0.95\n",
      "step 600, training accuracy 0.85\n",
      "step 610, training accuracy 1\n",
      "step 620, training accuracy 0.95\n",
      "step 630, training accuracy 1\n",
      "step 640, training accuracy 0.95\n",
      "step 650, training accuracy 0.85\n",
      "step 660, training accuracy 0.9\n",
      "step 670, training accuracy 0.8\n",
      "step 680, training accuracy 1\n",
      "step 690, training accuracy 0.95\n",
      "step 700, training accuracy 1\n",
      "step 710, training accuracy 1\n",
      "step 720, training accuracy 1\n",
      "step 730, training accuracy 1\n",
      "step 740, training accuracy 1\n",
      "step 750, training accuracy 1\n",
      "step 760, training accuracy 0.95\n",
      "step 770, training accuracy 1\n",
      "step 780, training accuracy 1\n",
      "step 790, training accuracy 1\n",
      "step 800, training accuracy 0.95\n",
      "step 810, training accuracy 0.95\n",
      "step 820, training accuracy 0.95\n",
      "step 830, training accuracy 1\n",
      "step 840, training accuracy 1\n",
      "step 850, training accuracy 1\n",
      "step 860, training accuracy 1\n",
      "step 870, training accuracy 1\n",
      "step 880, training accuracy 1\n",
      "step 890, training accuracy 1\n",
      "step 900, training accuracy 1\n",
      "step 910, training accuracy 1\n",
      "step 920, training accuracy 1\n",
      "step 930, training accuracy 1\n",
      "step 940, training accuracy 0.95\n",
      "step 950, training accuracy 1\n",
      "step 960, training accuracy 1\n",
      "step 970, training accuracy 1\n",
      "step 980, training accuracy 1\n",
      "step 990, training accuracy 1\n"
     ]
    }
   ],
   "source": [
    "\n",
    "sess.run(tf.initialize_all_variables())\n",
    "for i in range(1000):\n",
    "    ( batch_x, batch_y_dsize,batch_y_d1, \n",
    "     batch_y_d2, batch_y_d3, batch_y_d4, batch_y_d5,\n",
    "     batch_y_box) = next_batch(mini_X, digit_size, \n",
    "                                               digits, digits_box, batch_size)\n",
    "    if i%10 == 0:\n",
    "        train_accuracy = accuracy.eval(feed_dict={\n",
    "                x_image: batch_x, y_dsize: batch_y_dsize,\n",
    "                y_d1: batch_y_d1, y_d2: batch_y_d2, y_d3: batch_y_d3,\n",
    "                y_d4: batch_y_d4, y_d5: batch_y_d5, y_box: batch_y_box,\n",
    "                keep_prob: 1.0})\n",
    "        print(\"step %d, training accuracy %g\"%(i, train_accuracy))\n",
    "    train_step.run(feed_dict={\n",
    "            x_image: batch_x, y_dsize: batch_y_dsize,\n",
    "            y_d1: batch_y_d1, y_d2: batch_y_d2, y_d3: batch_y_d3,\n",
    "            y_d4: batch_y_d4, y_d5: batch_y_d5, y_box: batch_y_box,\n",
    "            keep_prob: 0.5})\n"
   ]
  },
  {
   "cell_type": "code",
   "execution_count": null,
   "metadata": {
    "collapsed": true
   },
   "outputs": [],
   "source": []
  }
 ],
 "metadata": {
  "anaconda-cloud": {},
  "kernelspec": {
   "display_name": "Python 2",
   "language": "python",
   "name": "python2"
  },
  "language_info": {
   "codemirror_mode": {
    "name": "ipython",
    "version": 2
   },
   "file_extension": ".py",
   "mimetype": "text/x-python",
   "name": "python",
   "nbconvert_exporter": "python",
   "pygments_lexer": "ipython2",
   "version": "2.7.11"
  }
 },
 "nbformat": 4,
 "nbformat_minor": 1
}
